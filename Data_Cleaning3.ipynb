{
 "cells": [
  {
   "cell_type": "code",
   "execution_count": null,
   "id": "cd12d4d2-c363-455b-8981-5ec3b54d49da",
   "metadata": {},
   "outputs": [],
   "source": [
    "Impute missing values using Scikit-learn"
   ]
  },
  {
   "cell_type": "code",
   "execution_count": 1,
   "id": "d6ec35bb-cf90-4cef-8ab7-0bef70b5601c",
   "metadata": {},
   "outputs": [],
   "source": [
    "import pandas as pd\n",
    "import seaborn as sns\n",
    "import matplotlib.pyplot as plt"
   ]
  },
  {
   "cell_type": "code",
   "execution_count": 2,
   "id": "b9f70916-7ce5-49a9-908c-a3588fc2824a",
   "metadata": {},
   "outputs": [
    {
     "data": {
      "text/html": [
       "<div>\n",
       "<style scoped>\n",
       "    .dataframe tbody tr th:only-of-type {\n",
       "        vertical-align: middle;\n",
       "    }\n",
       "\n",
       "    .dataframe tbody tr th {\n",
       "        vertical-align: top;\n",
       "    }\n",
       "\n",
       "    .dataframe thead th {\n",
       "        text-align: right;\n",
       "    }\n",
       "</style>\n",
       "<table border=\"1\" class=\"dataframe\">\n",
       "  <thead>\n",
       "    <tr style=\"text-align: right;\">\n",
       "      <th></th>\n",
       "      <th>age</th>\n",
       "      <th>sleep_cycle</th>\n",
       "      <th>exercise_habits</th>\n",
       "      <th>climate_zone</th>\n",
       "      <th>historical_cuisine_exposure</th>\n",
       "      <th>preferred_taste</th>\n",
       "    </tr>\n",
       "  </thead>\n",
       "  <tbody>\n",
       "    <tr>\n",
       "      <th>0</th>\n",
       "      <td>56.0</td>\n",
       "      <td>Irregular</td>\n",
       "      <td>Heavy</td>\n",
       "      <td>Temperate</td>\n",
       "      <td>NaN</td>\n",
       "      <td>Salty</td>\n",
       "    </tr>\n",
       "    <tr>\n",
       "      <th>1</th>\n",
       "      <td>NaN</td>\n",
       "      <td>Night Owl</td>\n",
       "      <td>Heavy</td>\n",
       "      <td>Temperate</td>\n",
       "      <td>Asian</td>\n",
       "      <td>Sweet</td>\n",
       "    </tr>\n",
       "    <tr>\n",
       "      <th>2</th>\n",
       "      <td>46.0</td>\n",
       "      <td>Night Owl</td>\n",
       "      <td>Heavy</td>\n",
       "      <td>Cold</td>\n",
       "      <td>Mixed</td>\n",
       "      <td>Sour</td>\n",
       "    </tr>\n",
       "    <tr>\n",
       "      <th>3</th>\n",
       "      <td>32.0</td>\n",
       "      <td>Early Bird</td>\n",
       "      <td>Heavy</td>\n",
       "      <td>Cold</td>\n",
       "      <td>Mediterranean</td>\n",
       "      <td>Salty</td>\n",
       "    </tr>\n",
       "    <tr>\n",
       "      <th>4</th>\n",
       "      <td>60.0</td>\n",
       "      <td>Night Owl</td>\n",
       "      <td>Moderate</td>\n",
       "      <td>Dry</td>\n",
       "      <td>Mediterranean</td>\n",
       "      <td>Sour</td>\n",
       "    </tr>\n",
       "    <tr>\n",
       "      <th>5</th>\n",
       "      <td>25.0</td>\n",
       "      <td>Early Bird</td>\n",
       "      <td>Heavy</td>\n",
       "      <td>Cold</td>\n",
       "      <td>Mediterranean</td>\n",
       "      <td>Sour</td>\n",
       "    </tr>\n",
       "    <tr>\n",
       "      <th>6</th>\n",
       "      <td>38.0</td>\n",
       "      <td>Irregular</td>\n",
       "      <td>Light</td>\n",
       "      <td>Temperate</td>\n",
       "      <td>Mixed</td>\n",
       "      <td>Sour</td>\n",
       "    </tr>\n",
       "    <tr>\n",
       "      <th>7</th>\n",
       "      <td>56.0</td>\n",
       "      <td>NaN</td>\n",
       "      <td>Light</td>\n",
       "      <td>Cold</td>\n",
       "      <td>Mixed</td>\n",
       "      <td>Sour</td>\n",
       "    </tr>\n",
       "    <tr>\n",
       "      <th>8</th>\n",
       "      <td>36.0</td>\n",
       "      <td>Irregular</td>\n",
       "      <td>Light</td>\n",
       "      <td>Tropical</td>\n",
       "      <td>Mediterranean</td>\n",
       "      <td>Sweet</td>\n",
       "    </tr>\n",
       "    <tr>\n",
       "      <th>9</th>\n",
       "      <td>40.0</td>\n",
       "      <td>Early Bird</td>\n",
       "      <td>Light</td>\n",
       "      <td>Temperate</td>\n",
       "      <td>Asian</td>\n",
       "      <td>Sweet</td>\n",
       "    </tr>\n",
       "  </tbody>\n",
       "</table>\n",
       "</div>"
      ],
      "text/plain": [
       "    age sleep_cycle exercise_habits climate_zone historical_cuisine_exposure  \\\n",
       "0  56.0   Irregular           Heavy    Temperate                         NaN   \n",
       "1   NaN   Night Owl           Heavy    Temperate                       Asian   \n",
       "2  46.0   Night Owl           Heavy         Cold                       Mixed   \n",
       "3  32.0  Early Bird           Heavy         Cold               Mediterranean   \n",
       "4  60.0   Night Owl        Moderate          Dry               Mediterranean   \n",
       "5  25.0  Early Bird           Heavy         Cold               Mediterranean   \n",
       "6  38.0   Irregular           Light    Temperate                       Mixed   \n",
       "7  56.0         NaN           Light         Cold                       Mixed   \n",
       "8  36.0   Irregular           Light     Tropical               Mediterranean   \n",
       "9  40.0  Early Bird           Light    Temperate                       Asian   \n",
       "\n",
       "  preferred_taste  \n",
       "0           Salty  \n",
       "1           Sweet  \n",
       "2            Sour  \n",
       "3           Salty  \n",
       "4            Sour  \n",
       "5            Sour  \n",
       "6            Sour  \n",
       "7            Sour  \n",
       "8           Sweet  \n",
       "9           Sweet  "
      ]
     },
     "execution_count": 2,
     "metadata": {},
     "output_type": "execute_result"
    }
   ],
   "source": [
    "dataset = pd.read_csv('FlavorSense.csv')\n",
    "dataset.head(10)"
   ]
  },
  {
   "cell_type": "code",
   "execution_count": 3,
   "id": "6f0eb4ee-738a-44d4-93b9-b90d3c24e7b6",
   "metadata": {},
   "outputs": [
    {
     "data": {
      "text/plain": [
       "age                            968\n",
       "sleep_cycle                    684\n",
       "exercise_habits                804\n",
       "climate_zone                   533\n",
       "historical_cuisine_exposure    654\n",
       "preferred_taste                  0\n",
       "dtype: int64"
      ]
     },
     "execution_count": 3,
     "metadata": {},
     "output_type": "execute_result"
    }
   ],
   "source": [
    "dataset.isnull().sum()"
   ]
  },
  {
   "cell_type": "code",
   "execution_count": 4,
   "id": "0abe0629-0b47-4281-a929-1017f21ceb80",
   "metadata": {},
   "outputs": [
    {
     "name": "stdout",
     "output_type": "stream",
     "text": [
      "<class 'pandas.core.frame.DataFrame'>\n",
      "RangeIndex: 10000 entries, 0 to 9999\n",
      "Data columns (total 6 columns):\n",
      " #   Column                       Non-Null Count  Dtype  \n",
      "---  ------                       --------------  -----  \n",
      " 0   age                          9032 non-null   float64\n",
      " 1   sleep_cycle                  9316 non-null   object \n",
      " 2   exercise_habits              9196 non-null   object \n",
      " 3   climate_zone                 9467 non-null   object \n",
      " 4   historical_cuisine_exposure  9346 non-null   object \n",
      " 5   preferred_taste              10000 non-null  object \n",
      "dtypes: float64(1), object(5)\n",
      "memory usage: 468.9+ KB\n"
     ]
    }
   ],
   "source": [
    "dataset.info()"
   ]
  },
  {
   "cell_type": "code",
   "execution_count": 5,
   "id": "59e48024-a4a6-41b3-8876-9a29554e80cc",
   "metadata": {},
   "outputs": [
    {
     "data": {
      "text/plain": [
       "Index(['age'], dtype='object')"
      ]
     },
     "execution_count": 5,
     "metadata": {},
     "output_type": "execute_result"
    }
   ],
   "source": [
    "dataset.select_dtypes(include=\"float64\").columns"
   ]
  },
  {
   "cell_type": "code",
   "execution_count": 7,
   "id": "31d18328-2e4f-4990-815b-0cae149aa114",
   "metadata": {},
   "outputs": [],
   "source": [
    "from sklearn.impute import SimpleImputer"
   ]
  },
  {
   "cell_type": "code",
   "execution_count": 20,
   "id": "c57fcd25-f26f-447b-b8b1-9715365c23de",
   "metadata": {},
   "outputs": [
    {
     "data": {
      "text/plain": [
       "array([[56.        ],\n",
       "       [43.55270151],\n",
       "       [46.        ],\n",
       "       ...,\n",
       "       [57.        ],\n",
       "       [64.        ],\n",
       "       [32.        ]])"
      ]
     },
     "execution_count": 20,
     "metadata": {},
     "output_type": "execute_result"
    }
   ],
   "source": [
    "si = SimpleImputer(strategy=\"mean\")\n",
    "si.fit_transform(dataset[['age']])"
   ]
  },
  {
   "cell_type": "code",
   "execution_count": 11,
   "id": "59e90e03-a411-485c-8255-f25521a78dce",
   "metadata": {},
   "outputs": [],
   "source": [
    "si = SimpleImputer(strategy=\"mean\")\n",
    "ar = si.fit_transform(dataset[['age']])"
   ]
  },
  {
   "cell_type": "code",
   "execution_count": 12,
   "id": "49a82c21-3fe4-4e97-beb6-30a33450dc5d",
   "metadata": {
    "collapsed": true,
    "jupyter": {
     "outputs_hidden": true
    },
    "scrolled": true
   },
   "outputs": [
    {
     "data": {
      "text/html": [
       "<div>\n",
       "<style scoped>\n",
       "    .dataframe tbody tr th:only-of-type {\n",
       "        vertical-align: middle;\n",
       "    }\n",
       "\n",
       "    .dataframe tbody tr th {\n",
       "        vertical-align: top;\n",
       "    }\n",
       "\n",
       "    .dataframe thead th {\n",
       "        text-align: right;\n",
       "    }\n",
       "</style>\n",
       "<table border=\"1\" class=\"dataframe\">\n",
       "  <thead>\n",
       "    <tr style=\"text-align: right;\">\n",
       "      <th></th>\n",
       "      <th>age</th>\n",
       "    </tr>\n",
       "  </thead>\n",
       "  <tbody>\n",
       "    <tr>\n",
       "      <th>0</th>\n",
       "      <td>56.000000</td>\n",
       "    </tr>\n",
       "    <tr>\n",
       "      <th>1</th>\n",
       "      <td>43.552702</td>\n",
       "    </tr>\n",
       "    <tr>\n",
       "      <th>2</th>\n",
       "      <td>46.000000</td>\n",
       "    </tr>\n",
       "    <tr>\n",
       "      <th>3</th>\n",
       "      <td>32.000000</td>\n",
       "    </tr>\n",
       "    <tr>\n",
       "      <th>4</th>\n",
       "      <td>60.000000</td>\n",
       "    </tr>\n",
       "    <tr>\n",
       "      <th>...</th>\n",
       "      <td>...</td>\n",
       "    </tr>\n",
       "    <tr>\n",
       "      <th>9995</th>\n",
       "      <td>55.000000</td>\n",
       "    </tr>\n",
       "    <tr>\n",
       "      <th>9996</th>\n",
       "      <td>51.000000</td>\n",
       "    </tr>\n",
       "    <tr>\n",
       "      <th>9997</th>\n",
       "      <td>57.000000</td>\n",
       "    </tr>\n",
       "    <tr>\n",
       "      <th>9998</th>\n",
       "      <td>64.000000</td>\n",
       "    </tr>\n",
       "    <tr>\n",
       "      <th>9999</th>\n",
       "      <td>32.000000</td>\n",
       "    </tr>\n",
       "  </tbody>\n",
       "</table>\n",
       "<p>10000 rows × 1 columns</p>\n",
       "</div>"
      ],
      "text/plain": [
       "            age\n",
       "0     56.000000\n",
       "1     43.552702\n",
       "2     46.000000\n",
       "3     32.000000\n",
       "4     60.000000\n",
       "...         ...\n",
       "9995  55.000000\n",
       "9996  51.000000\n",
       "9997  57.000000\n",
       "9998  64.000000\n",
       "9999  32.000000\n",
       "\n",
       "[10000 rows x 1 columns]"
      ]
     },
     "execution_count": 12,
     "metadata": {},
     "output_type": "execute_result"
    }
   ],
   "source": [
    "pd.DataFrame(ar,columns=dataset.select_dtypes(include=\"float64\").columns)"
   ]
  },
  {
   "cell_type": "code",
   "execution_count": 13,
   "id": "bf8fb450-aa0b-4df3-897d-1e91af0d20df",
   "metadata": {},
   "outputs": [],
   "source": [
    "new_dataset = pd.DataFrame(ar,columns=dataset.select_dtypes(include=\"float64\").columns)"
   ]
  },
  {
   "cell_type": "code",
   "execution_count": 14,
   "id": "8138fd79-0fa1-493a-b670-08497b21eefa",
   "metadata": {},
   "outputs": [
    {
     "data": {
      "text/plain": [
       "age    0\n",
       "dtype: int64"
      ]
     },
     "execution_count": 14,
     "metadata": {},
     "output_type": "execute_result"
    }
   ],
   "source": [
    "new_dataset.isnull().sum()"
   ]
  },
  {
   "cell_type": "code",
   "execution_count": 15,
   "id": "a65eb2cf-4fc8-477f-abb5-6060233473a7",
   "metadata": {},
   "outputs": [
    {
     "data": {
      "text/plain": [
       "np.float64(43.552701505757305)"
      ]
     },
     "execution_count": 15,
     "metadata": {},
     "output_type": "execute_result"
    }
   ],
   "source": [
    "dataset[\"age\"].mean()"
   ]
  },
  {
   "cell_type": "raw",
   "id": "3cdab90f-bc60-46e8-8df4-a437bca0cd0e",
   "metadata": {},
   "source": [
    "This technique used in column transformation and ML pipelining (project end mode) "
   ]
  },
  {
   "cell_type": "code",
   "execution_count": 21,
   "id": "56453219-a115-462a-9cb8-9a82529cd690",
   "metadata": {},
   "outputs": [
    {
     "data": {
      "text/plain": [
       "array([[56.],\n",
       "       [43.],\n",
       "       [46.],\n",
       "       ...,\n",
       "       [57.],\n",
       "       [64.],\n",
       "       [32.]])"
      ]
     },
     "execution_count": 21,
     "metadata": {},
     "output_type": "execute_result"
    }
   ],
   "source": [
    "si1 = SimpleImputer(strategy=\"median\")\n",
    "si1.fit_transform(dataset[['age']])"
   ]
  },
  {
   "cell_type": "code",
   "execution_count": 17,
   "id": "15fe40c1-6869-435c-84e0-9d74f04806e7",
   "metadata": {},
   "outputs": [],
   "source": [
    "si1 = SimpleImputer(strategy=\"median\")\n",
    "arr = si1.fit_transform(dataset[['age']])"
   ]
  },
  {
   "cell_type": "code",
   "execution_count": 18,
   "id": "ae98d897-ff9c-442b-a631-456dd9fce326",
   "metadata": {},
   "outputs": [
    {
     "data": {
      "text/html": [
       "<div>\n",
       "<style scoped>\n",
       "    .dataframe tbody tr th:only-of-type {\n",
       "        vertical-align: middle;\n",
       "    }\n",
       "\n",
       "    .dataframe tbody tr th {\n",
       "        vertical-align: top;\n",
       "    }\n",
       "\n",
       "    .dataframe thead th {\n",
       "        text-align: right;\n",
       "    }\n",
       "</style>\n",
       "<table border=\"1\" class=\"dataframe\">\n",
       "  <thead>\n",
       "    <tr style=\"text-align: right;\">\n",
       "      <th></th>\n",
       "      <th>age</th>\n",
       "    </tr>\n",
       "  </thead>\n",
       "  <tbody>\n",
       "    <tr>\n",
       "      <th>0</th>\n",
       "      <td>56.0</td>\n",
       "    </tr>\n",
       "    <tr>\n",
       "      <th>1</th>\n",
       "      <td>43.0</td>\n",
       "    </tr>\n",
       "    <tr>\n",
       "      <th>2</th>\n",
       "      <td>46.0</td>\n",
       "    </tr>\n",
       "    <tr>\n",
       "      <th>3</th>\n",
       "      <td>32.0</td>\n",
       "    </tr>\n",
       "    <tr>\n",
       "      <th>4</th>\n",
       "      <td>60.0</td>\n",
       "    </tr>\n",
       "    <tr>\n",
       "      <th>...</th>\n",
       "      <td>...</td>\n",
       "    </tr>\n",
       "    <tr>\n",
       "      <th>9995</th>\n",
       "      <td>55.0</td>\n",
       "    </tr>\n",
       "    <tr>\n",
       "      <th>9996</th>\n",
       "      <td>51.0</td>\n",
       "    </tr>\n",
       "    <tr>\n",
       "      <th>9997</th>\n",
       "      <td>57.0</td>\n",
       "    </tr>\n",
       "    <tr>\n",
       "      <th>9998</th>\n",
       "      <td>64.0</td>\n",
       "    </tr>\n",
       "    <tr>\n",
       "      <th>9999</th>\n",
       "      <td>32.0</td>\n",
       "    </tr>\n",
       "  </tbody>\n",
       "</table>\n",
       "<p>10000 rows × 1 columns</p>\n",
       "</div>"
      ],
      "text/plain": [
       "       age\n",
       "0     56.0\n",
       "1     43.0\n",
       "2     46.0\n",
       "3     32.0\n",
       "4     60.0\n",
       "...    ...\n",
       "9995  55.0\n",
       "9996  51.0\n",
       "9997  57.0\n",
       "9998  64.0\n",
       "9999  32.0\n",
       "\n",
       "[10000 rows x 1 columns]"
      ]
     },
     "execution_count": 18,
     "metadata": {},
     "output_type": "execute_result"
    }
   ],
   "source": [
    "pd.DataFrame(arr,columns=dataset.select_dtypes(include=\"float64\").columns)"
   ]
  },
  {
   "cell_type": "code",
   "execution_count": 19,
   "id": "94e6e6ab-747d-4206-8e7c-bb911e7a1ac3",
   "metadata": {},
   "outputs": [
    {
     "data": {
      "text/plain": [
       "43.0"
      ]
     },
     "execution_count": 19,
     "metadata": {},
     "output_type": "execute_result"
    }
   ],
   "source": [
    "dataset[\"age\"].median()"
   ]
  },
  {
   "cell_type": "raw",
   "id": "a8faa677-8511-4ad3-b066-7f4b8de8bc8e",
   "metadata": {},
   "source": [
    "here, Median will be best to fill the missing values."
   ]
  },
  {
   "cell_type": "code",
   "execution_count": null,
   "id": "662f1f6a-be6f-4e71-adb0-5eeb51d64260",
   "metadata": {},
   "outputs": [],
   "source": []
  }
 ],
 "metadata": {
  "kernelspec": {
   "display_name": "Python [conda env:base] *",
   "language": "python",
   "name": "conda-base-py"
  },
  "language_info": {
   "codemirror_mode": {
    "name": "ipython",
    "version": 3
   },
   "file_extension": ".py",
   "mimetype": "text/x-python",
   "name": "python",
   "nbconvert_exporter": "python",
   "pygments_lexer": "ipython3",
   "version": "3.13.5"
  }
 },
 "nbformat": 4,
 "nbformat_minor": 5
}
